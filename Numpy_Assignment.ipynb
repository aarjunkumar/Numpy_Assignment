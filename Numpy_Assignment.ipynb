{
  "nbformat": 4,
  "nbformat_minor": 0,
  "metadata": {
    "colab": {
      "provenance": []
    },
    "kernelspec": {
      "name": "python3",
      "display_name": "Python 3"
    },
    "language_info": {
      "name": "python"
    }
  },
  "cells": [
    {
      "cell_type": "markdown",
      "source": [
        "# **Theoretical Questions:**"
      ],
      "metadata": {
        "id": "rSX9_-6p0HOk"
      }
    },
    {
      "cell_type": "markdown",
      "source": [
        "Q1. Explain the purpose and advantages of NumPy in scientific computing and data analysis. How does it\n",
        "enhance Python's capabilities for numerical operations?\n",
        "\n",
        "Sol. Purpose of Numpy:-\n",
        "\n",
        "\n",
        "1.   Efficient Numerical Computations:- NumPy is designed to handle large amounts of numerical data efficiently. It provides powerful tools to work with arrays and enabling complex operations.\n",
        "\n",
        "2.  Array Creation:- NumPy helps create multi-dimensional arrays and process arrays that store values of the same data type\n",
        "\n",
        "3.  Foundation for Other Libraries:- NumPy serves as the foundation for many other scientific libraries in Python, such as Pandas etc.\n",
        "\n",
        "4.  Interfacing with C, C++, and Fortran:- NumPy arrays can be easily passed to other languages like C, C++, and Fortran.\n",
        "\n",
        "\n",
        "Advantages of Numpy in Scientific Computing and Data analysis:-\n",
        "\n",
        "\n",
        "\n",
        "1.   Performance:- NumPy's array operations are faster than Python lists because they are executed at compiled C speed. This is important for handling large datasets and complex computations.\n",
        "\n",
        "2.   Memory efficiency:- NumPy arrays use contiguous memory blocks, which reduces overhead compared to Python lists. This is important for dealing with extensive datasets\n",
        "\n",
        "3.   Mathematical functions:- NumPy provides a rich collection of mathematical functions, including basic arithmetic operations, statistical functions, linear algebra operations, and Fourier transforms.\n",
        "\n",
        "4.  Vectorized Operations:- One of the biggest advantages of NumPy is its ability to perform vectorized operations. This means that instead of writing loops to operate on each element of an array individually, you can apply operations directly to the entire array.\n",
        "\n",
        "\n",
        "5.  Indexing and Slicing:- NumPy supports advanced indexing, slicing, and reshaping techniques for its arrays, which makes data manipulation fast and efficient.\n",
        "\n",
        "6.   Broadcasting:- NumPy's broadcasting capability allows for arithmetic operations between arrays of different shapes and sizes\n",
        "\n",
        "7.   Integration:-NumPy integrates with other libraries and tools in the scientific Python ecosystem, such as SciPy, Pandas, Matplotlib, and scikit-learn."
      ],
      "metadata": {
        "id": "3e05Y0yu0TQo"
      }
    },
    {
      "cell_type": "markdown",
      "source": [
        "\n",
        "\n",
        "---\n",
        "\n",
        "\n",
        "\n",
        "---\n",
        "\n"
      ],
      "metadata": {
        "id": "AdOBcshn5Itc"
      }
    },
    {
      "cell_type": "markdown",
      "source": [
        "Q2. Compare and contrast np.mean() and np.average() functions in NumPy. When would you use one over the\n",
        "other?\n",
        "\n",
        "Sol. Comparison of np.mean() and np.average() in different aspects:-\n",
        "\n",
        "1. Basic Function:-\n",
        "\n",
        "  *   np.mean():- Computes the arithematic mean of elements in an array.\n",
        "  *   np.average():- Computes the average of elements in an array with different weights and if weight is not assigned then it simply calculates the mean.\n",
        "\n",
        "2. Supports of Weights:-\n",
        "\n",
        "  *   In np.mean() there is no support of weights.\n",
        "  *   np.average() supports weights in calculations.\n",
        "\n",
        "3. Result:-\n",
        "\n",
        "  *   np.mean() gives the mean of elements in an array.\n",
        "  *   np.average() gives the average with different weights and if no weight is assigned then it calculates the mean.\n",
        "\n",
        "4. Performance:-\n",
        "\n",
        "  *   np.mean() is slight;y faster.\n",
        "  *   np.average() is slower due to weight handeling.\n",
        "\n",
        "5. Use case:-\n",
        "\n",
        "  *   np.mean() is used when equal importance is given to all the elements.\n",
        "  *   np.average() is used when elements have different importance.\n",
        "\n",
        "\n",
        "\n"
      ],
      "metadata": {
        "id": "wupR7BSJ5JvK"
      }
    },
    {
      "cell_type": "markdown",
      "source": [
        "\n",
        "\n",
        "---\n",
        "\n",
        "\n",
        "\n",
        "---\n",
        "\n"
      ],
      "metadata": {
        "id": "_KYqKPYF9mVN"
      }
    },
    {
      "cell_type": "markdown",
      "source": [
        "Q3. Describe the methods for reversing a NumPy array along different axes. Provide examples for 1D and 2D\n",
        "arrays.\n",
        "\n",
        "Sol. Reversing of Numpy array along different axis in pyhton can be done by 2 different methods:-\n",
        "\n",
        "1. Slicing:- With the help of slicing we can reverse an array along its axis by simply using  (array[start:stop:step]) where step =-1.\n",
        "\n",
        "2. Using flip() method:- Another way of reversing an array along its axis is to use flip method. which is used as (np.flip(array_name,axis)) here we can pass (0 or 1) in axis according to the axis we have to flip or pass both to flip the whole array\n",
        "\n",
        "Example:-"
      ],
      "metadata": {
        "id": "gIWgLp0Y9nPK"
      }
    },
    {
      "cell_type": "code",
      "source": [
        "## Raversing using slicing:-\n",
        "\n",
        "import numpy as np\n",
        "\n",
        "arr=np.array([1,2,3,4,5])\n",
        "print(\"Reverse of 1-d array: \")\n",
        "print(arr[::-1])\n",
        "\n",
        "arr1=np.array([[1,2,3],[4,5,6]])\n",
        "print(\"Reverse of 2-d array along x-axis: \")\n",
        "print(arr1[::-1,])\n",
        "print(\"Reverse of 2-d array along y-axis: \")\n",
        "print(arr1[:,::-1])\n",
        "\n",
        "\n",
        "print(\"Reverse of 2-d array along both the axis: \")\n",
        "print(arr1[::-1,::-1])"
      ],
      "metadata": {
        "colab": {
          "base_uri": "https://localhost:8080/"
        },
        "id": "amOAMvth_r6A",
        "outputId": "d6b4226f-a891-4380-8c5d-9c8f28a4a11b"
      },
      "execution_count": null,
      "outputs": [
        {
          "output_type": "stream",
          "name": "stdout",
          "text": [
            "Reverse of 1-d array: \n",
            "[5 4 3 2 1]\n",
            "Reverse of 2-d array along x-axis: \n",
            "[[4 5 6]\n",
            " [1 2 3]]\n",
            "Reverse of 2-d array along y-axis: \n",
            "[[3 2 1]\n",
            " [6 5 4]]\n",
            "Reverse of 2-d array along both the axis: \n",
            "[[6 5 4]\n",
            " [3 2 1]]\n"
          ]
        }
      ]
    },
    {
      "cell_type": "code",
      "source": [
        "## Raversing using flip method:-\n",
        "\n",
        "import numpy as np\n",
        "\n",
        "arr=np.array([1,2,3,4,5])\n",
        "print(\"Reverse of 1-d array: \")\n",
        "print(np.flip(arr))\n",
        "\n",
        "arr1=np.array([[1,2,3],[4,5,6]])\n",
        "print(\"Reverse of 2-d array along x-axis: \")\n",
        "print(np.flip(arr1,axis=0))\n",
        "print(\"Reverse of 2-d array along y-axis: \")\n",
        "print(np.flip(arr1,axis=1))\n",
        "\n",
        "\n",
        "print(\"Reverse of 2-d array along both the axis: \")\n",
        "print(np.flip(arr1,axis=(0,1)))"
      ],
      "metadata": {
        "colab": {
          "base_uri": "https://localhost:8080/"
        },
        "id": "fHQm-gMMApGu",
        "outputId": "1fddcf4a-a5d7-4ed5-de6b-4eba03a10991"
      },
      "execution_count": null,
      "outputs": [
        {
          "output_type": "stream",
          "name": "stdout",
          "text": [
            "Reverse of 1-d array: \n",
            "[5 4 3 2 1]\n",
            "Reverse of 2-d array along x-axis: \n",
            "[[4 5 6]\n",
            " [1 2 3]]\n",
            "Reverse of 2-d array along y-axis: \n",
            "[[3 2 1]\n",
            " [6 5 4]]\n",
            "Reverse of 2-d array along both the axis: \n",
            "[[6 5 4]\n",
            " [3 2 1]]\n"
          ]
        }
      ]
    },
    {
      "cell_type": "markdown",
      "source": [
        "\n",
        "\n",
        "---\n",
        "\n",
        "\n",
        "\n",
        "---\n",
        "\n"
      ],
      "metadata": {
        "id": "7th5qmwIBVLv"
      }
    },
    {
      "cell_type": "markdown",
      "source": [
        "Q4. How can you determine the data type of elements in a NumPy array? Discuss the importance of data types\n",
        "in memory management and performance.\n",
        "\n",
        "Sol. Using dtype we can determine the datatype of an array, with the help of dtype we can also assign the datatype to an array at the time of its creation.\n",
        "\n",
        "Importance of datatype in memory management and performance:-\n",
        "\n",
        "1. Memory Management:- Different datatypes are of different sizes and occupy different space in the memory.If an array is created of a particular datatype of higher space requirement then the array will occupy more memory than others.\n",
        "\n",
        "2. Performance:- Data types also impact the performance of numerical operations. Smaller data types can lead to faster computations because they require fewer bits to process. However, they may sacrifice precision, so you need to balance between memory efficiency and the precision required for your application.\n",
        "\n"
      ],
      "metadata": {
        "id": "8cu6n4W1BWSg"
      }
    },
    {
      "cell_type": "markdown",
      "source": [
        "\n",
        "\n",
        "---\n",
        "\n",
        "\n",
        "\n",
        "---\n",
        "\n"
      ],
      "metadata": {
        "id": "xoUhxzRYFuDs"
      }
    },
    {
      "cell_type": "markdown",
      "source": [
        "Q5. Define ndarrays in NumPy and explain their key features. How do they differ from standard Python lists?\n",
        "\n",
        "Sol. ndarrays in numpy is an array of homogenous elements of n-dimensions,which means with the help of numpy we can create an array of any dimensions with ease.  \n",
        "\n",
        "Key features of ndarrays:-\n",
        "\n",
        "1. Homogenous Datatype:- All elements of ndarray are of same datatype.\n",
        "\n",
        "2.  Performance:- NumPy's array operations are faster than Python lists because they are executed at compiled C speed. This is important for handling large datasets and complex computations.\n",
        "\n",
        "3.   Memory efficiency:- NumPy arrays use contiguous memory blocks, which reduces overhead compared to Python lists. This is important for dealing with extensive datasets\n",
        "\n",
        "4.  Mathematical functions:- NumPy provides a rich collection of mathematical functions, including basic arithmetic operations, statistical functions, linear algebra operations, and Fourier transforms.\n",
        "\n",
        "5.  Vectorized Operations:- One of the biggest advantages of NumPy is its ability to perform vectorized operations. This means that instead of writing loops to operate on each element of an array individually, you can apply operations directly to the entire array.\n",
        "\n",
        "6.  Indexing and Slicing:- NumPy supports advanced indexing, slicing, and reshaping techniques for its arrays, which makes data manipulation fast and efficient.\n",
        "\n",
        "7.  Broadcasting:- NumPy's broadcasting capability allows for arithmetic operations between arrays of different shapes and sizes\n",
        "\n",
        "8.  Integration:-NumPy integrates with other libraries and tools in the scientific Python ecosystem, such as SciPy, Pandas, Matplotlib, and scikit-learn.\n",
        "\n",
        "Difference between ndarrays and lists:-\n",
        "\n",
        "1. Datatype:- ndarrays are of homogenous datatype where as lists is collection of elements of hetrogenous datatypes.\n",
        "\n",
        "2. Memory Efficiency:- ndarrays are more efficient than lists.\n",
        "\n",
        "3. Broadcasting:- Broadcasting is possible in ndarrays but not in lists.\n",
        "\n",
        "4. Performance:- ndarrays provides optimized performance for numerical operations list are slower as compared to arrays.\n",
        "\n",
        "5. Vectorized Operations:- It is possible in ndarrays but not in lists.\n"
      ],
      "metadata": {
        "id": "pbhy7yuiFvWA"
      }
    },
    {
      "cell_type": "markdown",
      "source": [
        "\n",
        "\n",
        "---\n",
        "\n",
        "\n",
        "\n",
        "---\n",
        "\n"
      ],
      "metadata": {
        "id": "7ixpW40PJBK5"
      }
    },
    {
      "cell_type": "markdown",
      "source": [
        "Q6. Analyze the performance benefits of NumPy arrays over Python lists for large-scale numerical operations.\n",
        "\n",
        "Sol. Performance benefits of Numpy arrays over lists are:-\n",
        "\n",
        "1. Memory Management:- Numpy arrays are more momery efficient than lists because its stores its elements in contiguous memory locations, and the other reason behing it is numpy arrays are collection of elements of same data types.\n",
        "\n",
        "2. Performance:- Numpy arrays are faster than lists because, the arrays are stored in contiguous memory locations which makes it faster as it is more efficent to confiure an operation in a continuous memory address rather than different memory spaces.\n",
        "\n",
        "3. Vectorized Operations:- One of the biggest advantages of NumPy is its ability to perform vectorized operations. This means that instead of writing loops to operate on each element of an array individually, you can apply operations directly to the entire array.\n",
        "\n",
        "4. Broadcasting:- NumPy's broadcasting capability allows for arithmetic operations between arrays of different shapes and sizes\n",
        "\n",
        "5. Mathematical Functions:- Numpy arrays has faster C-based mathematical functions whereas lists has slower python-based functions."
      ],
      "metadata": {
        "id": "zL1WofXzJCzF"
      }
    },
    {
      "cell_type": "markdown",
      "source": [
        "\n",
        "\n",
        "---\n",
        "\n",
        "\n",
        "\n",
        "---\n",
        "\n"
      ],
      "metadata": {
        "id": "yAoiWZ4nMHP9"
      }
    },
    {
      "cell_type": "markdown",
      "source": [
        "Q7. Compare vstack() and hstack() functions in NumPy. Provide examples demonstrating their usage and\n",
        "output.\n",
        "\n",
        "Sol. vstack():- used to stack two or more arrays vertically.\n",
        "\n",
        "hstack():- used to stack two or more arrays horizontally.\n",
        "\n",
        "Example:-"
      ],
      "metadata": {
        "id": "_SgZj27PMIbn"
      }
    },
    {
      "cell_type": "code",
      "source": [
        "# Vertical stacking of arrays\n",
        "\n",
        "import numpy as np\n",
        "\n",
        "a=np.array([1,2,3])\n",
        "b=np.array([4,5,6])\n",
        "print(\"Verticak Stack : \")\n",
        "print(np.vstack((a,b)))\n",
        "\n",
        "# Hortizontal stacking of array\n",
        "\n",
        "print(\"Horizontal Stack : \")\n",
        "print(np.hstack((a,b)))"
      ],
      "metadata": {
        "colab": {
          "base_uri": "https://localhost:8080/"
        },
        "id": "iHI1weyTNAfY",
        "outputId": "73658e9a-f6d0-427a-8628-1f4dc648996f"
      },
      "execution_count": null,
      "outputs": [
        {
          "output_type": "stream",
          "name": "stdout",
          "text": [
            "Verticak Stack : \n",
            "[[1 2 3]\n",
            " [4 5 6]]\n",
            "Horizontal Stack : \n",
            "[1 2 3 4 5 6]\n"
          ]
        }
      ]
    },
    {
      "cell_type": "markdown",
      "source": [
        "\n",
        "\n",
        "---\n",
        "\n",
        "\n",
        "\n",
        "---\n",
        "\n"
      ],
      "metadata": {
        "id": "pUkp3ZhlNkTR"
      }
    },
    {
      "cell_type": "markdown",
      "source": [
        "Q8. Explain the differences between fliplr() and flipud() methods in NumPy, including their effects on various\n",
        "array dimensions.\n",
        "\n",
        "Sol.\n",
        "\n",
        "1. fliplr():- flips the array in the left to right direction,reversing the order of columns.\n",
        "\n",
        "  *   It does not work for !-D array\n",
        "  *   For 2-d array or more the shape of array remains same, only the columns are reversed.\n",
        "\n",
        "2. flipud():- flips the array in up to down direction, reversing the order of rows without affectinf the order of columns.\n",
        "\n",
        "\n",
        "*   It works for all the dimensions.\n",
        "*   like fliplr() it does not change the shape of array just changes the order of columns.\n",
        "\n",
        "Examole:-\n",
        "\n"
      ],
      "metadata": {
        "id": "602xzBDcNlgH"
      }
    },
    {
      "cell_type": "code",
      "source": [
        "import numpy as np\n",
        "\n",
        "arr=np.array([1,2,3])\n",
        "arr1=np.array([[1,2,3],[4,5,6]])\n",
        "\n",
        "print(\"fliplr of 2-d array :\")\n",
        "print(np.fliplr(arr1))\n",
        "\n",
        "print(\"flipud of 1-d array :\")\n",
        "print(np.flipud(arr))\n",
        "\n",
        "print(\"fliplr of 2-d array :\")\n",
        "print(np.flipud(arr1))"
      ],
      "metadata": {
        "colab": {
          "base_uri": "https://localhost:8080/"
        },
        "id": "n2Vb8mXE1S95",
        "outputId": "cb0d006c-40fe-42e3-f8ef-f580d5645a13"
      },
      "execution_count": 8,
      "outputs": [
        {
          "output_type": "stream",
          "name": "stdout",
          "text": [
            "fliplr of 2-d array :\n",
            "[[3 2 1]\n",
            " [6 5 4]]\n",
            "flipud of 1-d array :\n",
            "[3 2 1]\n",
            "fliplr of 2-d array :\n",
            "[[4 5 6]\n",
            " [1 2 3]]\n"
          ]
        }
      ]
    },
    {
      "cell_type": "markdown",
      "source": [
        "\n",
        "\n",
        "---\n",
        "\n",
        "\n",
        "\n",
        "---\n",
        "\n"
      ],
      "metadata": {
        "id": "AKg2uqwT14xY"
      }
    },
    {
      "cell_type": "markdown",
      "source": [
        "Q9. Discuss the functionality of the array_split() method in NumPy. How does it handle uneven splits?\n",
        "\n",
        "Sol.  Splitting divides an array into multiple sub-arrays along a specified axis\n",
        "\n",
        "For Example:-\n"
      ],
      "metadata": {
        "id": "8OoLTkER16BP"
      }
    },
    {
      "cell_type": "code",
      "source": [
        "import numpy as np\n",
        "\n",
        "arr3 = np.array([[1, 2], [3, 4], [5, 6]])\n",
        "\n",
        "print(\"Splitting across x-axis :\")\n",
        "print(np.split(arr1,2,axis=0))\n",
        "\n",
        "print(\"Splitting across y-axis :\")\n",
        "print(np.split(arr3,2,axis=1))"
      ],
      "metadata": {
        "colab": {
          "base_uri": "https://localhost:8080/"
        },
        "id": "e7x4aGAW3uq4",
        "outputId": "d60d43fd-4a3d-48e9-e1de-12757cb3ae68"
      },
      "execution_count": 15,
      "outputs": [
        {
          "output_type": "stream",
          "name": "stdout",
          "text": [
            "Splitting across x-axis :\n",
            "[array([[1, 2, 3]]), array([[4, 5, 6]])]\n",
            "Splitting across y-axis :\n",
            "[array([[1],\n",
            "       [3],\n",
            "       [5]]), array([[2],\n",
            "       [4],\n",
            "       [6]])]\n"
          ]
        }
      ]
    },
    {
      "cell_type": "markdown",
      "source": [
        "Handeling Uneven Cases:-\n",
        "\n",
        "If the array size is not divisible by the number of splits, array_split() ensures that the sub-arrays are as evenly sized as possible. The first sub-arrays will have one extra element compared to the last sub-arrays.\n",
        "\n",
        "For Example:-"
      ],
      "metadata": {
        "id": "7kiFH1h84nv1"
      }
    },
    {
      "cell_type": "code",
      "source": [
        "import numpy as np\n",
        "\n",
        "arr = np.array([1, 2, 3, 4, 5, 6, 7])\n",
        "np.array_split(arr, 3)"
      ],
      "metadata": {
        "colab": {
          "base_uri": "https://localhost:8080/"
        },
        "id": "dfIonnsk478A",
        "outputId": "297d4cea-abe4-4b77-bca1-9322beda7089"
      },
      "execution_count": 16,
      "outputs": [
        {
          "output_type": "execute_result",
          "data": {
            "text/plain": [
              "[array([1, 2, 3]), array([4, 5]), array([6, 7])]"
            ]
          },
          "metadata": {},
          "execution_count": 16
        }
      ]
    },
    {
      "cell_type": "markdown",
      "source": [
        "\n",
        "\n",
        "---\n",
        "\n",
        "\n",
        "\n",
        "---\n",
        "\n"
      ],
      "metadata": {
        "id": "OD-8OJga5G5Z"
      }
    },
    {
      "cell_type": "markdown",
      "source": [
        "Q10. Explain the concepts of vectorization and broadcasting in NumPy. How do they contribute to efficient array\n",
        "operations?\n",
        "\n",
        "Sol. Vectorization:-\n",
        "\n",
        "NumPy vectorization involves performing mathematical operations on entire arrays, eliminating the need to loop through individual elements.\n",
        "\n",
        "Example:-"
      ],
      "metadata": {
        "id": "mNWaPQIl5IEL"
      }
    },
    {
      "cell_type": "code",
      "source": [
        "import numpy as np\n",
        "\n",
        "arr = np.array([1, 2, 3, 4, 5 ])\n",
        "n = 10\n",
        "\n",
        "print(arr+n)"
      ],
      "metadata": {
        "colab": {
          "base_uri": "https://localhost:8080/"
        },
        "id": "poKi9RE650oB",
        "outputId": "16203e85-abb8-4d30-a2b1-ff8dcc527094"
      },
      "execution_count": 17,
      "outputs": [
        {
          "output_type": "stream",
          "name": "stdout",
          "text": [
            "[11 12 13 14 15]\n"
          ]
        }
      ]
    },
    {
      "cell_type": "markdown",
      "source": [
        "Broadcating:-\n",
        "In NumPy, broadcasting is a process that allows for arithmetic operations to be performed on arrays with different shapes:\n",
        "\n",
        "How it works:-Broadcasting \"stretches\" or \"replicates\" smaller arrays to match the dimensions of larger arrays. This eliminates the need to manually reshape arrays or write loops.\n",
        "\n",
        "Examples:- Broadcasting can be used for per-element arithmetic, multiplying an n-dimensional array by a scalar, dividing a matrix by a vector, and converting a color image to grayscale"
      ],
      "metadata": {
        "id": "0WFt4-qK59OR"
      }
    },
    {
      "cell_type": "code",
      "source": [
        "import numpy as np\n",
        "\n",
        "arr1 = np.array([1, 2, 3])\n",
        "arr2 = np.array([[1], [2], [3]])\n",
        "\n",
        "print(arr1+arr2)"
      ],
      "metadata": {
        "colab": {
          "base_uri": "https://localhost:8080/"
        },
        "id": "wdSMPOUF6Tob",
        "outputId": "ab0cc4e4-d1e9-41d1-bcb9-00184376e78a"
      },
      "execution_count": 18,
      "outputs": [
        {
          "output_type": "stream",
          "name": "stdout",
          "text": [
            "[[2 3 4]\n",
            " [3 4 5]\n",
            " [4 5 6]]\n"
          ]
        }
      ]
    },
    {
      "cell_type": "markdown",
      "source": [
        "Advantages of Vectorization and Broadcasting are:-\n",
        "\n",
        "\n",
        "1.   Consice Code:- Eleminates the need of loops\n",
        "2.   Fast Execution:- Operations are performed in C\n",
        "3.   Low memory needed:- Broadcasting avoids unnecessary memory duplication,keeping operations memory efficient.\n",
        "\n"
      ],
      "metadata": {
        "id": "xlI8wor96pn6"
      }
    },
    {
      "cell_type": "markdown",
      "source": [
        "\n",
        "\n",
        "---\n",
        "\n",
        "\n",
        "\n",
        "---\n",
        "\n"
      ],
      "metadata": {
        "id": "dwFp6sVN7dMY"
      }
    },
    {
      "cell_type": "markdown",
      "source": [
        "# **Practical Questions:**"
      ],
      "metadata": {
        "id": "zjC5xo5ke3x-"
      }
    },
    {
      "cell_type": "markdown",
      "source": [
        "Q1. Create a 3x3 NumPy array with random integers between 1 and 100. Then, interchange its rows and columns."
      ],
      "metadata": {
        "id": "XmI877UufDoV"
      }
    },
    {
      "cell_type": "code",
      "source": [
        "import numpy as np\n",
        "\n",
        "arr=np.randomm.randint(1,100,(3,3))\n",
        "\n",
        "print(a)"
      ],
      "metadata": {
        "id": "4NqBfkFIfL6O"
      },
      "execution_count": null,
      "outputs": []
    },
    {
      "cell_type": "markdown",
      "source": [
        "\n",
        "\n",
        "---\n",
        "\n",
        "\n",
        "\n",
        "---\n",
        "\n"
      ],
      "metadata": {
        "id": "vXyj_f3R7fps"
      }
    },
    {
      "cell_type": "markdown",
      "source": [
        "Q2.Generate a 1D NumPy array with 10 elements. Reshape it into a 2x5 array, then into a 5x2 array."
      ],
      "metadata": {
        "id": "KJz7mB8RkWJI"
      }
    },
    {
      "cell_type": "code",
      "source": [
        "import numpy as np\n",
        "\n",
        "arr=np.random.rand(10)\n",
        "print(arr.reshape(2,5))\n",
        "print(\"\")\n",
        "print(arr.reshape(5,2))"
      ],
      "metadata": {
        "colab": {
          "base_uri": "https://localhost:8080/"
        },
        "id": "smCir41CkXsg",
        "outputId": "96e1edf1-a7e7-443e-9a62-4d5d8e164da8"
      },
      "execution_count": null,
      "outputs": [
        {
          "output_type": "stream",
          "name": "stdout",
          "text": [
            "[[0.58923703 0.03135065 0.72337071 0.61564135 0.29767931]\n",
            " [0.7467137  0.45705328 0.86723485 0.31762999 0.50299293]]\n",
            "\n",
            "[[0.58923703 0.03135065]\n",
            " [0.72337071 0.61564135]\n",
            " [0.29767931 0.7467137 ]\n",
            " [0.45705328 0.86723485]\n",
            " [0.31762999 0.50299293]]\n"
          ]
        }
      ]
    },
    {
      "cell_type": "markdown",
      "source": [
        "\n",
        "\n",
        "---\n",
        "\n",
        "\n",
        "\n",
        "---\n",
        "\n"
      ],
      "metadata": {
        "id": "cUz6oUl87hL6"
      }
    },
    {
      "cell_type": "markdown",
      "source": [
        "Q3. Create a 4x4 NumPy array with random float values. Add a border of zeros around it, resulting in a 6x6 array."
      ],
      "metadata": {
        "id": "lIZxASNhlwcb"
      }
    },
    {
      "cell_type": "code",
      "source": [
        "import numpy as np\n",
        "\n",
        "arr1=np.random.rand(4,4)\n",
        "print(arr)\n",
        "print(\"\\n\")\n",
        "print(np.pad(arr1,pad_width=1, mode='constant', constant_values=0))"
      ],
      "metadata": {
        "colab": {
          "base_uri": "https://localhost:8080/"
        },
        "id": "_-XXdVf-l1lZ",
        "outputId": "c4ce6361-5e3a-4a33-a361-f9736e1462e7"
      },
      "execution_count": null,
      "outputs": [
        {
          "output_type": "stream",
          "name": "stdout",
          "text": [
            "['python' 'numpy' 'pandas']\n",
            "\n",
            "\n",
            "[[0.         0.         0.         0.         0.         0.        ]\n",
            " [0.         0.57892188 0.18547648 0.49334768 0.9685985  0.        ]\n",
            " [0.         0.21871728 0.4434093  0.41201853 0.81821084 0.        ]\n",
            " [0.         0.73549872 0.29995349 0.36801036 0.26200351 0.        ]\n",
            " [0.         0.5500597  0.77500359 0.97663324 0.27027082 0.        ]\n",
            " [0.         0.         0.         0.         0.         0.        ]]\n"
          ]
        }
      ]
    },
    {
      "cell_type": "markdown",
      "source": [
        "\n",
        "\n",
        "---\n",
        "\n",
        "\n",
        "\n",
        "---\n",
        "\n"
      ],
      "metadata": {
        "id": "P-QCghFx7i6O"
      }
    },
    {
      "cell_type": "markdown",
      "source": [
        "Q4.Using NumPy, create an array of integers from 10 to 60 with a step of 5."
      ],
      "metadata": {
        "id": "k9XSu8ZBkd_A"
      }
    },
    {
      "cell_type": "code",
      "source": [
        "import numpy as np\n",
        "\n",
        "arr=np.arange(10,61,5)\n",
        "arr"
      ],
      "metadata": {
        "colab": {
          "base_uri": "https://localhost:8080/"
        },
        "id": "TkPlYXxlkiCd",
        "outputId": "983ad36f-abbd-4a7d-cf71-ad5a8d8c11ea"
      },
      "execution_count": null,
      "outputs": [
        {
          "output_type": "execute_result",
          "data": {
            "text/plain": [
              "array([10, 15, 20, 25, 30, 35, 40, 45, 50, 55, 60])"
            ]
          },
          "metadata": {},
          "execution_count": 15
        }
      ]
    },
    {
      "cell_type": "markdown",
      "source": [
        "\n",
        "\n",
        "---\n",
        "\n",
        "\n",
        "\n",
        "---\n",
        "\n"
      ],
      "metadata": {
        "id": "tzrpWRew7kUo"
      }
    },
    {
      "cell_type": "markdown",
      "source": [
        "Q5.Create a NumPy array of strings ['python', 'numpy', 'pandas']. Apply different case transformations (uppercase, lowercase, title case, etc.) to each element."
      ],
      "metadata": {
        "id": "hL8eyLZCkrlG"
      }
    },
    {
      "cell_type": "code",
      "source": [
        "import numpy as np\n",
        "\n",
        "s=['python', 'numpy', 'pandas']\n",
        "\n",
        "arr=np.array(s)\n",
        "print(np.char.upper(arr))\n",
        "print(np.char.lower(arr))\n",
        "print(np.char.title(arr))"
      ],
      "metadata": {
        "colab": {
          "base_uri": "https://localhost:8080/"
        },
        "id": "8GPSFkbaksI_",
        "outputId": "60147837-088e-4467-e643-5c4787e7d4a3"
      },
      "execution_count": null,
      "outputs": [
        {
          "output_type": "stream",
          "name": "stdout",
          "text": [
            "['PYTHON' 'NUMPY' 'PANDAS']\n",
            "['python' 'numpy' 'pandas']\n",
            "['Python' 'Numpy' 'Pandas']\n"
          ]
        }
      ]
    },
    {
      "cell_type": "markdown",
      "source": [
        "\n",
        "\n",
        "---\n",
        "\n",
        "\n",
        "\n",
        "---\n",
        "\n"
      ],
      "metadata": {
        "id": "eqW7tiqM7lnK"
      }
    },
    {
      "cell_type": "markdown",
      "source": [
        "Q6. Generate a NumPy array of words. Insert a space between each character of every word in the array."
      ],
      "metadata": {
        "id": "pXh9SeCLw7fg"
      }
    },
    {
      "cell_type": "code",
      "source": [
        "import numpy as np\n",
        "\n",
        "s=[\"pwskills\",'hello',\"world\"]\n",
        "\n",
        "arr=np.array([\" \".join(i) for i in s])\n",
        "\n",
        "arr"
      ],
      "metadata": {
        "colab": {
          "base_uri": "https://localhost:8080/"
        },
        "id": "xHiD1GODw9FA",
        "outputId": "754f450a-8aac-41ec-8ace-157672dc2d19"
      },
      "execution_count": 2,
      "outputs": [
        {
          "output_type": "execute_result",
          "data": {
            "text/plain": [
              "array(['p w s k i l l s', 'h e l l o', 'w o r l d'], dtype='<U15')"
            ]
          },
          "metadata": {},
          "execution_count": 2
        }
      ]
    },
    {
      "cell_type": "markdown",
      "source": [
        "\n",
        "\n",
        "---\n",
        "\n",
        "\n",
        "\n",
        "---\n",
        "\n"
      ],
      "metadata": {
        "id": "CuV3ixFF7m6a"
      }
    },
    {
      "cell_type": "markdown",
      "source": [
        "Q7. Create two 2D NumPy arrays and perform element-wise addition, subtraction, multiplication, and division."
      ],
      "metadata": {
        "id": "rmXV60kWk5pv"
      }
    },
    {
      "cell_type": "code",
      "source": [
        "import numpy as np\n",
        "\n",
        "arr1=np.random.randint(1,10,(3,3))\n",
        "arr2=np.random.randint(1,10,(3,3))\n",
        "\n",
        "print(arr1)\n",
        "print(\"\\n\")\n",
        "print(arr2)\n",
        "\n",
        "print(\"Addition : \")\n",
        "print(arr1+arr2)\n",
        "print(\"\\n\")\n",
        "\n",
        "print(\"Subtraction : \")\n",
        "print(arr1-arr2)\n",
        "print(\"\\n\")\n",
        "\n",
        "print(\"Multiplication : \")\n",
        "print(arr1*arr2)\n",
        "print(\"\\n\")\n",
        "\n",
        "print(\"Division : \")\n",
        "print(arr1//arr2)\n",
        "print(\"\\n\")"
      ],
      "metadata": {
        "colab": {
          "base_uri": "https://localhost:8080/"
        },
        "id": "lfbbkjVgk6IX",
        "outputId": "82c60132-826d-4535-e8f1-f626363160a9"
      },
      "execution_count": null,
      "outputs": [
        {
          "output_type": "stream",
          "name": "stdout",
          "text": [
            "[[2 5 8]\n",
            " [4 2 2]\n",
            " [8 9 6]]\n",
            "\n",
            "\n",
            "[[6 1 7]\n",
            " [2 5 1]\n",
            " [7 2 4]]\n",
            "Addition : \n",
            "[[ 8  6 15]\n",
            " [ 6  7  3]\n",
            " [15 11 10]]\n",
            "\n",
            "\n",
            "Subtraction : \n",
            "[[-4  4  1]\n",
            " [ 2 -3  1]\n",
            " [ 1  7  2]]\n",
            "\n",
            "\n",
            "Multiplication : \n",
            "[[12  5 56]\n",
            " [ 8 10  2]\n",
            " [56 18 24]]\n",
            "\n",
            "\n",
            "Division : \n",
            "[[0 5 1]\n",
            " [2 0 2]\n",
            " [1 4 1]]\n",
            "\n",
            "\n"
          ]
        }
      ]
    },
    {
      "cell_type": "markdown",
      "source": [
        "\n",
        "\n",
        "---\n",
        "\n",
        "\n",
        "\n",
        "---\n",
        "\n"
      ],
      "metadata": {
        "id": "_gE3DvXq7on1"
      }
    },
    {
      "cell_type": "markdown",
      "source": [
        "Q8. Use NumPy to create a 5x5 identity matrix, then extract its diagonal elements."
      ],
      "metadata": {
        "id": "F7IBhBwExkwN"
      }
    },
    {
      "cell_type": "code",
      "source": [
        "import numpy as np\n",
        "\n",
        "arr=np.eye(5)\n",
        "print(arr)\n",
        "print(\"\\n\")\n",
        "print(np.diag(arr))"
      ],
      "metadata": {
        "id": "TkAmVeKElm-X",
        "colab": {
          "base_uri": "https://localhost:8080/"
        },
        "outputId": "1730d348-dfc8-4563-f3d0-72724d1e75c6"
      },
      "execution_count": 4,
      "outputs": [
        {
          "output_type": "stream",
          "name": "stdout",
          "text": [
            "[[1. 0. 0. 0. 0.]\n",
            " [0. 1. 0. 0. 0.]\n",
            " [0. 0. 1. 0. 0.]\n",
            " [0. 0. 0. 1. 0.]\n",
            " [0. 0. 0. 0. 1.]]\n",
            "\n",
            "\n",
            "[1. 1. 1. 1. 1.]\n"
          ]
        }
      ]
    },
    {
      "cell_type": "markdown",
      "source": [
        "\n",
        "\n",
        "---\n",
        "\n",
        "\n",
        "\n",
        "---\n",
        "\n"
      ],
      "metadata": {
        "id": "5VXVTPT47p1P"
      }
    },
    {
      "cell_type": "markdown",
      "source": [
        "Q9. Generate a NumPy array of 100 random integers between 0 and 1000. Find and display all prime numbers in\n",
        "this array.\n"
      ],
      "metadata": {
        "id": "dq291AUzyBq3"
      }
    },
    {
      "cell_type": "code",
      "source": [
        "import numpy as np\n",
        "\n",
        "def is_prime(n):\n",
        "    if n <= 1:\n",
        "        return False\n",
        "    for i in range(2, int(np.sqrt(n)) + 1):\n",
        "        if n % i == 0:\n",
        "            return False\n",
        "    return True\n",
        "\n",
        "arr = np.random.randint(0, 1000, size=100)\n",
        "arr1 = np.array([i for i in arr if is_prime(i)])\n",
        "\n",
        "arr1"
      ],
      "metadata": {
        "colab": {
          "base_uri": "https://localhost:8080/"
        },
        "id": "JsM36sZGx92J",
        "outputId": "89b626d4-dc3c-4687-da6e-f9702f0ab689"
      },
      "execution_count": 5,
      "outputs": [
        {
          "output_type": "execute_result",
          "data": {
            "text/plain": [
              "array([167,  19, 509,  37, 463, 227, 647, 487, 443, 313, 983, 617, 947,\n",
              "       673,  23, 421, 719, 281,  83, 337, 751])"
            ]
          },
          "metadata": {},
          "execution_count": 5
        }
      ]
    },
    {
      "cell_type": "markdown",
      "source": [
        "\n",
        "\n",
        "---\n",
        "\n",
        "\n",
        "\n",
        "---\n",
        "\n"
      ],
      "metadata": {
        "id": "d7aMMLIl7rIt"
      }
    },
    {
      "cell_type": "markdown",
      "source": [
        "Q10. Create a NumPy array representing daily temperatures for a month. Calculate and display the weekly\n",
        "averages."
      ],
      "metadata": {
        "id": "Y-9HHx1ayokz"
      }
    },
    {
      "cell_type": "code",
      "source": [
        "import numpy as np\n",
        "\n",
        "t=np.random.randint(20,30,size=28)\n",
        "print(t)\n",
        "print(\"\\n\")\n",
        "\n",
        "week=t.reshape(4,7)\n",
        "\n",
        "week_mean=np.mean(week,axis=1)\n",
        "print(week_mean)"
      ],
      "metadata": {
        "colab": {
          "base_uri": "https://localhost:8080/"
        },
        "id": "Cf3IHgGrym81",
        "outputId": "4b24fe01-0362-4d50-bf62-b30cd1d9201d"
      },
      "execution_count": 7,
      "outputs": [
        {
          "output_type": "stream",
          "name": "stdout",
          "text": [
            "[26 29 20 23 27 28 24 23 25 29 25 27 22 26 25 22 27 23 28 22 23 22 25 22\n",
            " 26 20 28 26]\n",
            "\n",
            "\n",
            "[25.28571429 25.28571429 24.28571429 24.14285714]\n"
          ]
        }
      ]
    }
  ]
}